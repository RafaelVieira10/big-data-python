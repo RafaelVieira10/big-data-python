{
 "cells": [
  {
   "cell_type": "markdown",
   "metadata": {},
   "source": [
    "### "
   ]
  },
  {
   "cell_type": "markdown",
   "metadata": {},
   "source": [
    "### Exercício 01\n",
    "\n",
    "Crie uma lista com nomes de 4 times de futebol.\n",
    "\n",
    "a) Palmeiras\n",
    "b) São Paulo\n",
    "c) Santos\n",
    "d) Água Santa\n",
    "e) Acesse o time que está na 3a posição.\n",
    "f) Crie uma lista com duas listas de 3 times de futebol, cada uma de uma\n",
    "divisão diferente."
   ]
  },
  {
   "cell_type": "code",
   "execution_count": 36,
   "metadata": {},
   "outputs": [
    {
     "name": "stdout",
     "output_type": "stream",
     "text": [
      "São Bernardo\n"
     ]
    }
   ],
   "source": [
    "timesA = ['Palmeiras', 'São Paulo', 'Santos', 'Água Santa']\n",
    "timesB = ['Coritiba', 'Sport', 'São Bernardo', 'São Paulo']\n",
    "\n",
    "listaTimes = [timesA, timesB]\n",
    "\n",
    "print(listaTimes[1][2])"
   ]
  },
  {
   "cell_type": "markdown",
   "metadata": {},
   "source": [
    "### Exercício 02\n",
    "\n",
    "Crie uma lista com 3 diferentes moedas. Acrescente mais 2\n",
    "outras moedas à essa mesma lista.\n",
    "\n",
    "APPEND para adicionar um indice"
   ]
  },
  {
   "cell_type": "code",
   "execution_count": 41,
   "metadata": {},
   "outputs": [
    {
     "name": "stdout",
     "output_type": "stream",
     "text": [
      "['Euro', 'Dolar', 'Peso']\n",
      "['peso2', 'peso1', 'Euro', 'Dolar', 'Peso']\n"
     ]
    }
   ],
   "source": [
    "moedas = ['Euro', 'Dolar', 'Peso']\n",
    "\n",
    "print(moedas)\n",
    "\n",
    "for i in range(0,2):\n",
    "    add = str(input(\"Digite a moeda a ser inserida: \"))\n",
    "    moedas.insert(1, add)\n",
    "\n",
    "print(moedas)"
   ]
  },
  {
   "cell_type": "markdown",
   "metadata": {},
   "source": [
    "### Exercício 03\n",
    "\n",
    "Crie uma string com a lista do exercício anterior.\n",
    "\n",
    "LISTA PARA STRING\n"
   ]
  },
  {
   "cell_type": "code",
   "execution_count": 50,
   "metadata": {},
   "outputs": [
    {
     "name": "stdout",
     "output_type": "stream",
     "text": [
      "['Açucar', 'Leite', 'Café']\n",
      "Açucar ; Leite ; Café\n"
     ]
    }
   ],
   "source": [
    "supermarket = ['Açucar', 'Leite', 'Café']\n",
    "\n",
    "listaCovertida = ' ; '.join(supermarket)\n",
    "\n",
    "print(supermarket)\n",
    "print(listaCovertida)\n",
    "\n"
   ]
  },
  {
   "cell_type": "markdown",
   "metadata": {},
   "source": [
    "STRING PARA LISTA\n",
    "\n"
   ]
  },
  {
   "cell_type": "code",
   "execution_count": 52,
   "metadata": {},
   "outputs": [
    {
     "name": "stdout",
     "output_type": "stream",
     "text": [
      "Açucar ; Leite ; Café\n",
      "['Açucar ', ' Leite ', ' Café']\n"
     ]
    }
   ],
   "source": [
    "lista = listaCovertida.split(';')\n",
    "\n",
    "print(listaCovertida)\n",
    "\n",
    "print(lista)"
   ]
  },
  {
   "cell_type": "markdown",
   "metadata": {},
   "source": [
    "### TUPLAS\n",
    "\n",
    "Após sua definição, não podemos alterar sua estrutura"
   ]
  },
  {
   "cell_type": "code",
   "execution_count": 60,
   "metadata": {},
   "outputs": [
    {
     "name": "stdout",
     "output_type": "stream",
     "text": [
      "<class 'tuple'>\n"
     ]
    }
   ],
   "source": [
    "valores = (90, 79, 54, 32, 21)\n",
    "pontos = (100, 94.05, 96.08, 62)\n",
    "\n",
    "print(type(valores))\n",
    "\n"
   ]
  },
  {
   "cell_type": "code",
   "execution_count": 61,
   "metadata": {},
   "outputs": [
    {
     "name": "stdout",
     "output_type": "stream",
     "text": [
      "Não é possivel modificar uma tupla\n"
     ]
    }
   ],
   "source": [
    "myList = [1,2] #Lista \n",
    "\n",
    "myTuple = (1,2) #Tupla\n",
    "\n",
    "try:\n",
    "    myTuple[1] = 3\n",
    "\n",
    "except TypeError:\n",
    "\n",
    "    print(\"Não é possivel modificar uma tupla\")\n"
   ]
  },
  {
   "cell_type": "markdown",
   "metadata": {},
   "source": [
    "### Criando uma função com tuplas"
   ]
  },
  {
   "cell_type": "code",
   "execution_count": 65,
   "metadata": {},
   "outputs": [
    {
     "name": "stdout",
     "output_type": "stream",
     "text": [
      "(6, 8)\n"
     ]
    }
   ],
   "source": [
    "def somaProduct (x, y):\n",
    "   return (x + y), (x * y)\n",
    "\n",
    "print(somaProduct(2,4))"
   ]
  }
 ],
 "metadata": {
  "kernelspec": {
   "display_name": "Python 3",
   "language": "python",
   "name": "python3"
  },
  "language_info": {
   "codemirror_mode": {
    "name": "ipython",
    "version": 3
   },
   "file_extension": ".py",
   "mimetype": "text/x-python",
   "name": "python",
   "nbconvert_exporter": "python",
   "pygments_lexer": "ipython3",
   "version": "3.11.0"
  }
 },
 "nbformat": 4,
 "nbformat_minor": 2
}
