{
 "cells": [
  {
   "cell_type": "markdown",
   "metadata": {},
   "source": []
  },
  {
   "cell_type": "code",
   "execution_count": null,
   "metadata": {},
   "outputs": [],
   "source": [
    "import pandas as pd\n",
    "\n",
    "caminho = \"J:\\\\Rafael Vieira\\\\arquivos\\\\Vendas.xlsx\"\n",
    "df = pd.read_excel(caminho)\n"
   ]
  },
  {
   "cell_type": "code",
   "execution_count": null,
   "metadata": {},
   "outputs": [],
   "source": [
    "df.head()"
   ]
  },
  {
   "cell_type": "code",
   "execution_count": null,
   "metadata": {},
   "outputs": [],
   "source": [
    "df.columns = ['Data', 'Vendedor', 'Cargo', 'Cliente', 'UF', 'Vendas']"
   ]
  },
  {
   "cell_type": "code",
   "execution_count": null,
   "metadata": {},
   "outputs": [],
   "source": [
    "df.info()"
   ]
  },
  {
   "cell_type": "code",
   "execution_count": null,
   "metadata": {},
   "outputs": [],
   "source": [
    "df[df['Vendas'] == df['Vendas'].min()]"
   ]
  },
  {
   "cell_type": "code",
   "execution_count": null,
   "metadata": {},
   "outputs": [],
   "source": [
    "df[df['Vendas'] == df['Vendas'].max()]"
   ]
  },
  {
   "cell_type": "code",
   "execution_count": null,
   "metadata": {},
   "outputs": [],
   "source": [
    "df['Vendas'].count()"
   ]
  },
  {
   "cell_type": "code",
   "execution_count": null,
   "metadata": {},
   "outputs": [],
   "source": [
    "df['Vendas'].sum()"
   ]
  },
  {
   "cell_type": "code",
   "execution_count": null,
   "metadata": {},
   "outputs": [],
   "source": [
    "df['Vendas'].mean()"
   ]
  },
  {
   "cell_type": "code",
   "execution_count": null,
   "metadata": {},
   "outputs": [],
   "source": [
    "df_cargos = df['Cargo'].drop_duplicates()\n",
    "\n",
    "#Converter o df_cargos em lista\n",
    "cargos = df_cargos.to_list()\n",
    "cargos\n",
    "\n",
    "for cargo in cargos:\n",
    "    df_final = df[df['Cargo'] == cargo] \n",
    "    caminho = \"J:\\\\Rafael Vieira\\\\relatorios_exercicio_03\\\\\"\n",
    "    arquivo = cargo + '.xlsx' \n",
    "    print(arquivo)\n",
    "    df_final.to_excel(caminho + arquivo, index=False) "
   ]
  },
  {
   "cell_type": "code",
   "execution_count": null,
   "metadata": {},
   "outputs": [],
   "source": [
    "df_vendedor = df['Vendedor'].drop_duplicates()\n",
    "vendedores = df_vendedor.to_list()\n",
    "\n",
    "for vendedor in vendedores:\n",
    "    df_final_vendedor = df[df['Vendedor'] == vendedor]\n",
    "    caminho = \"J:\\\\Rafael Vieira\\\\relatorios_exercicio_03\\\\\"\n",
    "    arquivo = vendedor + '.xlsx' \n",
    "    print(arquivo)\n",
    "    df_final_vendedor.to_excel(caminho + arquivo, index=False) "
   ]
  },
  {
   "cell_type": "code",
   "execution_count": null,
   "metadata": {},
   "outputs": [],
   "source": [
    "df_uf = df['UF'].drop_duplicates()\n",
    "ufs = df_uf.to_list()\n",
    "\n",
    "for uf in ufs:\n",
    "    df_final_uf = df[df['UF'] == uf]\n",
    "    caminho = \"J:\\\\Rafael Vieira\\\\relatorios_exercicio_03\\\\\"\n",
    "    arquivo = uf + '.xlsx'\n",
    "    print(arquivo)\n",
    "    df_final_uf.to_excel(caminho + arquivo, index=False)\n"
   ]
  },
  {
   "cell_type": "code",
   "execution_count": null,
   "metadata": {},
   "outputs": [],
   "source": [
    "df_cliente = df['Cliente'].drop_duplicates()\n",
    "clientes = df_cliente.to_list()\n",
    "\n",
    "\n",
    "for cliente in clientes:\n",
    "    df_final_cliente = df[df['Cliente'] == cliente]\n",
    "    caminho = \"J:\\\\Rafael Vieira\\\\relatorios_exercicio_03\\\\\"\n",
    "    arquivo = cliente + '.xlsx'\n",
    "    print(arquivo)\n",
    "    df_final_cliente.to_excel(caminho + arquivo, index=False)"
   ]
  }
 ],
 "metadata": {
  "kernelspec": {
   "display_name": "Python 3",
   "language": "python",
   "name": "python3"
  },
  "language_info": {
   "codemirror_mode": {
    "name": "ipython",
    "version": 3
   },
   "file_extension": ".py",
   "mimetype": "text/x-python",
   "name": "python",
   "nbconvert_exporter": "python",
   "pygments_lexer": "ipython3",
   "version": "3.11.0"
  }
 },
 "nbformat": 4,
 "nbformat_minor": 2
}
