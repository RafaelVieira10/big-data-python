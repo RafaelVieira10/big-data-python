{
 "cells": [
  {
   "cell_type": "code",
   "execution_count": null,
   "metadata": {},
   "outputs": [],
   "source": [
    "import pandas as pd"
   ]
  },
  {
   "cell_type": "code",
   "execution_count": null,
   "metadata": {},
   "outputs": [],
   "source": [
    "#Crie um programa em pandas para ler o arquivo em Excel imobiliária.xlsx\n",
    "caminho = \"J:\\\\Rafael Vieira\\\\arquivos\\\\Imobiliária.xlsx\"\n",
    "\n",
    "df = pd.read_excel(caminho)\n",
    "df.head()"
   ]
  },
  {
   "cell_type": "code",
   "execution_count": null,
   "metadata": {},
   "outputs": [],
   "source": [
    "# Visualize o cabeçalho dos dados;\n",
    "df.head()"
   ]
  },
  {
   "cell_type": "code",
   "execution_count": null,
   "metadata": {},
   "outputs": [],
   "source": [
    "#Visualize as últimas linhas;\n",
    "df.tail()"
   ]
  },
  {
   "cell_type": "code",
   "execution_count": null,
   "metadata": {},
   "outputs": [],
   "source": [
    "# Escreva um programa para renomear o cabeçalho da tabela com os seguintes nomes\n",
    "df.columns = [\n",
    "    'Filial', 'Vendedor', 'Data', 'Tipo', \n",
    "    'Área (m²)', 'Dorms', 'Garag.', 'Piscina',\n",
    "    'Preço', 'Comissão'    \n",
    "]\n",
    "df.head()"
   ]
  },
  {
   "cell_type": "code",
   "execution_count": null,
   "metadata": {},
   "outputs": [],
   "source": [
    "#Quais são os tipos de dados que temos no dataframe?\n",
    "df.info()"
   ]
  },
  {
   "cell_type": "code",
   "execution_count": null,
   "metadata": {},
   "outputs": [],
   "source": [
    "# Há valores faltantes ou nulos?\n",
    "df.info()"
   ]
  },
  {
   "cell_type": "code",
   "execution_count": null,
   "metadata": {},
   "outputs": [],
   "source": [
    "#Caculando a soma da coluna Preço\n",
    "df['Preço'].sum()"
   ]
  },
  {
   "cell_type": "code",
   "execution_count": null,
   "metadata": {},
   "outputs": [],
   "source": [
    "#Calculando a média da coluna Preço\n",
    "df['Preço'].mean()"
   ]
  },
  {
   "cell_type": "code",
   "execution_count": null,
   "metadata": {},
   "outputs": [],
   "source": [
    "#Calculando a mínima da coluna Preço\n",
    "df['Preço'].min()"
   ]
  },
  {
   "cell_type": "code",
   "execution_count": null,
   "metadata": {},
   "outputs": [],
   "source": [
    "#Calculando a máxima da coluna Preço\n",
    "df['Preço'].max()"
   ]
  },
  {
   "cell_type": "code",
   "execution_count": null,
   "metadata": {},
   "outputs": [],
   "source": [
    "#calculando a quantidade\n",
    "df['Preço'].count()"
   ]
  },
  {
   "cell_type": "markdown",
   "metadata": {},
   "source": [
    "#### Crie um programa para criar um dataframe para mostrar as vendas por região, e salvar um arquivo em Excel para cada região."
   ]
  },
  {
   "cell_type": "code",
   "execution_count": null,
   "metadata": {},
   "outputs": [],
   "source": [
    "#Gerar um relatório de vendas\n",
    "\n",
    "#Filtar os dados\n",
    "df_final = df[df['Filial'] == 'Centro']\n",
    "\n",
    "#Mapear o caminho final e definir um novo nome para o arquivo\n",
    "caminho = \"J:\\\\Rafael Vieira\\\\relatorios\\\\\"\n",
    "arquivo = 'centro.xlsx'\n",
    "\n",
    "#Salva arquivo na pasta\n",
    "df_final.to_excel(caminho + arquivo)"
   ]
  },
  {
   "cell_type": "code",
   "execution_count": 66,
   "metadata": {},
   "outputs": [
    {
     "name": "stdout",
     "output_type": "stream",
     "text": [
      "Centro.xlsx\n",
      "Noroeste.xlsx\n",
      "Norte.xlsx\n",
      "Sudeste.xlsx\n",
      "Oeste.xlsx\n",
      "Leste.xlsx\n",
      "Sudoeste.xlsx\n",
      "Sul.xlsx\n",
      "Nordeste.xlsx\n"
     ]
    }
   ],
   "source": [
    "df_filial = df['Filial'].drop_duplicates()\n",
    "regioes = df_filial.to_list()\n",
    "\n",
    "for regiao in regioes:\n",
    "    df_final = df[df['Filial'] == regiao]\n",
    "    caminho = \"J:\\\\Rafael Vieira\\\\relatorios\\\\\"\n",
    "    arquivo = regiao + '.xlsx'\n",
    "    print(arquivo)\n",
    "    df_final.to_excel(caminho + arquivo)"
   ]
  },
  {
   "cell_type": "markdown",
   "metadata": {},
   "source": [
    "I) Gere um arquivo em Excel para representar as vendas efetuadas pela filial norte\n",
    "em 2010."
   ]
  },
  {
   "cell_type": "code",
   "execution_count": null,
   "metadata": {},
   "outputs": [],
   "source": [
    "df[(df['Filial'] == 'Norte') & (df['Data'].dt.year == 2010)]"
   ]
  },
  {
   "cell_type": "markdown",
   "metadata": {},
   "source": [
    "m) Gere um arquivo em Excel para representar as vendas efetuadas pela filial\n",
    "Sudeste em 2010. Sendo que no relatório deve conter apenas vendas de casas\n",
    "sem garagem."
   ]
  },
  {
   "cell_type": "code",
   "execution_count": null,
   "metadata": {},
   "outputs": [],
   "source": [
    "df_final = df[(df['Filial'] == 'Norte') & (df['Data'].dt.year == 2010) & (df['Tipo'] == 'Casa') & (df['Garag.'] == 0)]\n",
    "df_final\n",
    "\n",
    "caminho = \"J:\\\\Rafael Vieira\\\\relatorios\\\\\"\n",
    "arquivo = 'venda_casa.xlsx'\n",
    "df_final.to_excel(caminho + arquivo, index=False)"
   ]
  },
  {
   "cell_type": "markdown",
   "metadata": {},
   "source": [
    "Qual o valor máximo de comissão que a imobiliária numa venda?"
   ]
  },
  {
   "cell_type": "code",
   "execution_count": null,
   "metadata": {},
   "outputs": [],
   "source": [
    "df = df.rename(columns={\n",
    "    'Coluna 10': 'Comissao'\n",
    "})\n",
    "\n",
    "df['Comissao'].max()"
   ]
  },
  {
   "cell_type": "markdown",
   "metadata": {},
   "source": [
    "Quantas casas de 2 ou 3 dormitórios foram vendidas pelo Ricardo antes de 2011."
   ]
  },
  {
   "cell_type": "code",
   "execution_count": null,
   "metadata": {},
   "outputs": [],
   "source": [
    "df.columns = ['Filial', 'Vendedor', 'Data', 'Tipo', 'Area', 'Dorms', 'Garagem', 'Piscina', 'Preco', 'Comissao']\n",
    "\n",
    "df.head()\n"
   ]
  },
  {
   "cell_type": "code",
   "execution_count": null,
   "metadata": {},
   "outputs": [],
   "source": [
    "df_final_ricardo = df[(df['Vendedor'] == 'Ricardo') & (df['Data'] < '2011-01-01') & (df['Tipo'] == 'Casa') & ((df['Dorms'] == 2) | (df['Dorms'] == 3))]\n",
    "\n",
    "caminho = \"J:\\\\Rafael Vieira\\\\relatorios\\\\\"\n",
    "arquivo = 'ricardo_antes_2011.xlsx'\n",
    "df_final_ricardo.to_excel (caminho + arquivo, index=False)"
   ]
  },
  {
   "cell_type": "code",
   "execution_count": null,
   "metadata": {},
   "outputs": [],
   "source": [
    "df[df['Comissao'] == df['Comissao'].max()]"
   ]
  }
 ],
 "metadata": {
  "kernelspec": {
   "display_name": "Python 3",
   "language": "python",
   "name": "python3"
  },
  "language_info": {
   "codemirror_mode": {
    "name": "ipython",
    "version": 3
   },
   "file_extension": ".py",
   "mimetype": "text/x-python",
   "name": "python",
   "nbconvert_exporter": "python",
   "pygments_lexer": "ipython3",
   "version": "3.11.0"
  }
 },
 "nbformat": 4,
 "nbformat_minor": 2
}
